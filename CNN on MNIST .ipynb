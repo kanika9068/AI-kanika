{
 "cells": [
  {
   "cell_type": "markdown",
   "metadata": {},
   "source": [
    "# CNN (Convolution Neural Network)"
   ]
  },
  {
   "cell_type": "markdown",
   "metadata": {},
   "source": [
    "# Step1:Prepare a dataset of images.\n",
    "\n",
    "An image here is just like a matrix of pixel values.\n",
    "Image here is 3D - length,width and depth. And here depth represents channels.(3 for RGB)\n",
    "Here we are doing supervised learning i.e.Mapping between input data and output label and that is done by Back Propagation.\n",
    "Back Propagation is done to update weights.\n",
    "\n",
    "Great training datasets are MNIST,CIFAR10 and CoCo.\n",
    "But we will use MNIST here.\n",
    "The MNIST database (Modified National Institute of Standards and Technology database) is a large database of handwritten digits that is commonly used for training various image processing systems."
   ]
  },
  {
   "cell_type": "code",
   "execution_count": 7,
   "metadata": {
    "collapsed": true
   },
   "outputs": [],
   "source": [
    "#Import numpy \n",
    "#The method seed() sets the integer starting value used in generating random numbers. \n",
    "#Call this function before calling any other random module function.\n",
    "import numpy as np\n",
    "np.random.seed(56)  # for reproducibility"
   ]
  },
  {
   "cell_type": "markdown",
   "metadata": {},
   "source": [
    "# Step2:Convolution\n"
   ]
  },
  {
   "cell_type": "markdown",
   "metadata": {},
   "source": [
    "# Step3:Pooling"
   ]
  },
  {
   "cell_type": "markdown",
   "metadata": {},
   "source": [
    "# Step4:Normalization"
   ]
  },
  {
   "cell_type": "markdown",
   "metadata": {},
   "source": [
    "# Step5:Regularization"
   ]
  },
  {
   "cell_type": "markdown",
   "metadata": {},
   "source": [
    "# Step6:Probability Conversion"
   ]
  },
  {
   "cell_type": "markdown",
   "metadata": {},
   "source": [
    "# Step7:Choose maximum probable value."
   ]
  },
  {
   "cell_type": "code",
   "execution_count": 8,
   "metadata": {},
   "outputs": [
    {
     "name": "stderr",
     "output_type": "stream",
     "text": [
      "Using TensorFlow backend.\n"
     ]
    }
   ],
   "source": [
    "from keras.models import Sequential"
   ]
  },
  {
   "cell_type": "code",
   "execution_count": 9,
   "metadata": {
    "collapsed": true
   },
   "outputs": [],
   "source": [
    "from keras.layers import Dense, Dropout,Activation, Flatten"
   ]
  },
  {
   "cell_type": "markdown",
   "metadata": {},
   "source": [
    "#Dense layer:\n",
    "It is the fully connected layer in our neural network.\n",
    "\n",
    "Dropout layer:\n",
    "\n",
    "Dropout is a technique that randomly ignoring nodes. It is useful because it prevents inter-dependencies from emerging between nodes (I.e. nodes do not learn functions which rely on input values from another node), this allows the network to learn more a more robust relationship. Implementing dropout has much the same affect as taking the average from a committee of networks, however the cost is significantly less in both time and storage required.\n",
    "\n",
    "\n",
    "Activation layer:\n",
    "\n",
    "After each conv layer, it is convention to apply a nonlinear layer (or activation layer) immediately afterward.The purpose of this layer is to introduce nonlinearity to a system that basically has just been computing linear operations during the conv layers (just element wise multiplications and summations). It also helps to alleviate the vanishing gradient problem, which is the issue where the lower layers of the network train very slowly because the gradient decreases exponentially through the layers\n",
    "\n",
    "Flatten layer:\n",
    "\n",
    "We need to convert the output of the convolutional part of the CNN into a 1D feature vector, to be used by the ANN part of it. This operation is called flattening. It gets the output of the convolutional layers, flattens all its structure to create a single long feature vector to be used by the dense layer for the final classification.\n",
    "\n",
    "Now we'll import the CNN layers from Keras. These are the convolutional layers that will help us efficiently train on image data. We will also import some utilities. This will help us transform our data later:"
   ]
  },
  {
   "cell_type": "code",
   "execution_count": 10,
   "metadata": {
    "collapsed": true
   },
   "outputs": [],
   "source": [
    "from keras.layers import Convolution2D, MaxPooling2D\n",
    "from keras.utils import np_utils\n",
    "import matplotlib.pyplot as plt"
   ]
  },
  {
   "cell_type": "code",
   "execution_count": 11,
   "metadata": {
    "collapsed": true
   },
   "outputs": [],
   "source": [
    "batch_size= 120\n",
    "classes = 10\n",
    "epoches = 15\n",
    "img_rows,img_cols=28,28\n",
    "filters=40\n",
    "pool_size=(3,3)\n",
    "kernel_size=(3,3)"
   ]
  },
  {
   "cell_type": "code",
   "execution_count": 12,
   "metadata": {
    "collapsed": true
   },
   "outputs": [],
   "source": [
    "from keras.datasets import mnist\n",
    "(X_train,y_train),(X_test,y_test) = mnist.load_data()"
   ]
  },
  {
   "cell_type": "code",
   "execution_count": 13,
   "metadata": {
    "collapsed": true
   },
   "outputs": [],
   "source": [
    "X_train = X_train.reshape(X_train.shape[0], img_cols, img_rows, 1)\n",
    "X_test = X_test.reshape(X_test.shape[0], img_cols, img_rows, 1)\n",
    "input_shape=(img_cols, img_rows, 1)"
   ]
  },
  {
   "cell_type": "code",
   "execution_count": 14,
   "metadata": {
    "collapsed": true
   },
   "outputs": [],
   "source": [
    "X_train = X_train.astype('float32')\n",
    "X_test = X_test.astype('float32')\n",
    "X_train /= 255\n",
    "X_test /= 255"
   ]
  },
  {
   "cell_type": "code",
   "execution_count": 15,
   "metadata": {},
   "outputs": [
    {
     "name": "stdout",
     "output_type": "stream",
     "text": [
      "X_train shape: (60000, 28, 28, 1)\n",
      "60000 train samples\n",
      "10000 test samples\n"
     ]
    }
   ],
   "source": [
    "print('X_train shape:', X_train.shape)\n",
    "print(X_train.shape[0], 'train samples')\n",
    "print(X_test.shape[0], 'test samples')"
   ]
  },
  {
   "cell_type": "code",
   "execution_count": 16,
   "metadata": {
    "collapsed": true
   },
   "outputs": [],
   "source": [
    "Y_train = np_utils.to_categorical(y_train, classes)\n",
    "Y_test = np_utils.to_categorical(y_test,classes)"
   ]
  },
  {
   "cell_type": "code",
   "execution_count": 64,
   "metadata": {
    "collapsed": true
   },
   "outputs": [],
   "source": [
    "model = Sequential()\n",
    "model.add(Convolution2D(32, kernel_size=(3, 3),activation='relu',input_shape=input_shape))"
   ]
  },
  {
   "cell_type": "code",
   "execution_count": 67,
   "metadata": {},
   "outputs": [
    {
     "name": "stderr",
     "output_type": "stream",
     "text": [
      "/usr/local/lib/python3.5/dist-packages/ipykernel_launcher.py:2: UserWarning: Update your `Conv2D` call to the Keras 2 API: `Conv2D(40, (3, 3))`\n",
      "  \n"
     ]
    }
   ],
   "source": [
    "model.add(Activation('relu'))\n",
    "model.add(Convolution2D(filters, kernel_size[0], kernel_size[1]))\n",
    "model.add(Activation('relu'))\n",
    "model.add(MaxPooling2D(pool_size=pool_size))\n",
    "model.add(Dropout(0.25))\n",
    "\n",
    "model.add(Flatten())\n",
    "model.add(Dense(128))\n",
    "model.add(Activation('relu'))\n",
    "model.add(Dropout(0.5))\n",
    "model.add(Dense(classes))\n",
    "model.add(Activation('softmax'))\n",
    "\n",
    "# Complie the model\n",
    "\n",
    "model.compile(loss='categorical_crossentropy',\n",
    "              optimizer='adadelta',\n",
    "              metrics=['accuracy'])"
   ]
  },
  {
   "cell_type": "markdown",
   "metadata": {},
   "source": [
    "#The first 3 parameters correspond to the number of convolution filters to use, the number of rows in each convolution kernel, and the number of columns in each convolution kernel, respectively.\n",
    "\n",
    "Now add some more layers to net."
   ]
  },
  {
   "cell_type": "code",
   "execution_count": 68,
   "metadata": {},
   "outputs": [
    {
     "name": "stdout",
     "output_type": "stream",
     "text": [
      "_________________________________________________________________\n",
      "Layer (type)                 Output Shape              Param #   \n",
      "=================================================================\n",
      "conv2d_16 (Conv2D)           (None, 26, 26, 32)        320       \n",
      "_________________________________________________________________\n",
      "activation_25 (Activation)   (None, 26, 26, 32)        0         \n",
      "_________________________________________________________________\n",
      "activation_26 (Activation)   (None, 26, 26, 32)        0         \n",
      "_________________________________________________________________\n",
      "conv2d_17 (Conv2D)           (None, 24, 24, 40)        11560     \n",
      "_________________________________________________________________\n",
      "activation_27 (Activation)   (None, 24, 24, 40)        0         \n",
      "_________________________________________________________________\n",
      "max_pooling2d_7 (MaxPooling2 (None, 8, 8, 40)          0         \n",
      "_________________________________________________________________\n",
      "dropout_7 (Dropout)          (None, 8, 8, 40)          0         \n",
      "_________________________________________________________________\n",
      "flatten_18 (Flatten)         (None, 2560)              0         \n",
      "_________________________________________________________________\n",
      "dense_8 (Dense)              (None, 128)               327808    \n",
      "_________________________________________________________________\n",
      "activation_28 (Activation)   (None, 128)               0         \n",
      "_________________________________________________________________\n",
      "dropout_8 (Dropout)          (None, 128)               0         \n",
      "_________________________________________________________________\n",
      "dense_9 (Dense)              (None, 10)                1290      \n",
      "_________________________________________________________________\n",
      "activation_29 (Activation)   (None, 10)                0         \n",
      "=================================================================\n",
      "Total params: 340,978\n",
      "Trainable params: 340,978\n",
      "Non-trainable params: 0\n",
      "_________________________________________________________________\n"
     ]
    }
   ],
   "source": [
    "model.summary()"
   ]
  },
  {
   "cell_type": "markdown",
   "metadata": {},
   "source": [
    "# Fit model on training data:"
   ]
  },
  {
   "cell_type": "code",
   "execution_count": 71,
   "metadata": {},
   "outputs": [
    {
     "name": "stderr",
     "output_type": "stream",
     "text": [
      "/usr/local/lib/python3.5/dist-packages/keras/models.py:944: UserWarning: The `nb_epoch` argument in `fit` has been renamed `epochs`.\n",
      "  warnings.warn('The `nb_epoch` argument in `fit` '\n"
     ]
    },
    {
     "name": "stdout",
     "output_type": "stream",
     "text": [
      "Train on 60000 samples, validate on 10000 samples\n",
      "Epoch 1/15\n",
      "60000/60000 [==============================] - 392s 7ms/step - loss: 0.2941 - acc: 0.9091 - val_loss: 0.0580 - val_acc: 0.9822\n",
      "Epoch 2/15\n",
      "60000/60000 [==============================] - 541s 9ms/step - loss: 0.1031 - acc: 0.9696 - val_loss: 0.0423 - val_acc: 0.9860\n",
      "Epoch 3/15\n",
      "60000/60000 [==============================] - 548s 9ms/step - loss: 0.0769 - acc: 0.9776 - val_loss: 0.0359 - val_acc: 0.9881\n",
      "Epoch 4/15\n",
      "60000/60000 [==============================] - 386s 6ms/step - loss: 0.0645 - acc: 0.9810 - val_loss: 0.0330 - val_acc: 0.9889\n",
      "Epoch 5/15\n",
      "60000/60000 [==============================] - 369s 6ms/step - loss: 0.0570 - acc: 0.9823 - val_loss: 0.0316 - val_acc: 0.9887\n",
      "Epoch 6/15\n",
      "60000/60000 [==============================] - 370s 6ms/step - loss: 0.0512 - acc: 0.9849 - val_loss: 0.0266 - val_acc: 0.9908\n",
      "Epoch 7/15\n",
      "60000/60000 [==============================] - 362s 6ms/step - loss: 0.0463 - acc: 0.9858 - val_loss: 0.0310 - val_acc: 0.9901\n",
      "Epoch 8/15\n",
      "60000/60000 [==============================] - 358s 6ms/step - loss: 0.0446 - acc: 0.9863 - val_loss: 0.0291 - val_acc: 0.9905\n",
      "Epoch 9/15\n",
      "60000/60000 [==============================] - 365s 6ms/step - loss: 0.0420 - acc: 0.9872 - val_loss: 0.0274 - val_acc: 0.9913\n",
      "Epoch 10/15\n",
      "60000/60000 [==============================] - 370s 6ms/step - loss: 0.0390 - acc: 0.9887 - val_loss: 0.0247 - val_acc: 0.9913\n",
      "Epoch 11/15\n",
      "60000/60000 [==============================] - 369s 6ms/step - loss: 0.0364 - acc: 0.9894 - val_loss: 0.0289 - val_acc: 0.9908\n",
      "Epoch 12/15\n",
      "60000/60000 [==============================] - 364s 6ms/step - loss: 0.0350 - acc: 0.9897 - val_loss: 0.0259 - val_acc: 0.9917\n",
      "Epoch 13/15\n",
      "60000/60000 [==============================] - 363s 6ms/step - loss: 0.0346 - acc: 0.9893 - val_loss: 0.0253 - val_acc: 0.9920\n",
      "Epoch 14/15\n",
      "60000/60000 [==============================] - 362s 6ms/step - loss: 0.0311 - acc: 0.9905 - val_loss: 0.0259 - val_acc: 0.9917\n",
      "Epoch 15/15\n",
      "60000/60000 [==============================] - 364s 6ms/step - loss: 0.0306 - acc: 0.9905 - val_loss: 0.0272 - val_acc: 0.9912\n"
     ]
    }
   ],
   "source": [
    "history = model.fit(X_train, Y_train, batch_size=batch_size, nb_epoch=epoches,\n",
    "           validation_data=(X_test, Y_test))"
   ]
  },
  {
   "cell_type": "code",
   "execution_count": 73,
   "metadata": {},
   "outputs": [
    {
     "name": "stdout",
     "output_type": "stream",
     "text": [
      "10000/10000 [==============================] - 14s 1ms/step\n",
      "Test score: 0.0272030745179989\n",
      "Test accuracy: 0.9912\n"
     ]
    }
   ],
   "source": [
    "score = model.evaluate(X_test, Y_test)\n",
    "print('Test score:', score[0])\n",
    "print('Test accuracy:', score[1])"
   ]
  },
  {
   "cell_type": "markdown",
   "metadata": {},
   "source": [
    "# Plot the graphs:"
   ]
  },
  {
   "cell_type": "code",
   "execution_count": 74,
   "metadata": {},
   "outputs": [
    {
     "data": {
      "image/png": "[encoded data removed]",
      "text/plain": [
       "<matplotlib.figure.Figure at 0x7f53d516a5c0>"
      ]
     },
     "metadata": {},
     "output_type": "display_data"
    }
   ],
   "source": [
    "plt.plot(history.history['acc'])\n",
    "plt.plot(history.history['val_acc'])\n",
    "plt.title('model accuracy')\n",
    "plt.ylabel('accuracy')\n",
    "plt.xlabel('epoch')\n",
    "plt.legend(['train', 'test'], loc='upper left')\n",
    "plt.show()"
   ]
  }
 ],
 "metadata": {
  "kernelspec": {
   "display_name": "Python 3",
   "language": "python",
   "name": "python3"
  },
  "language_info": {
   "codemirror_mode": {
    "name": "ipython",
    "version": 2
   },
   "file_extension": ".py",
   "mimetype": "text/x-python",
   "name": "python",
   "nbconvert_exporter": "python",
   "pygments_lexer": "ipython2",
   "version": "2.7.14"
  }
 },
 "nbformat": 4,
 "nbformat_minor": 2
}
